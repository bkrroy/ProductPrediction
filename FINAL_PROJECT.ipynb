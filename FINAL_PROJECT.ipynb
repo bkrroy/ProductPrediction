{
 "cells": [
  {
   "cell_type": "markdown",
   "metadata": {},
   "source": [
    "# PREDICTING THE PRICE OF A PRODUCT"
   ]
  },
  {
   "cell_type": "code",
   "execution_count": 35,
   "metadata": {},
   "outputs": [],
   "source": [
    "# This library is used to handle the dataset \n",
    "import pandas as pd\n",
    "\n",
    "# This library is used to make an array to constantly allocate memory\n",
    "# this is also used in ML because extraction of data is quite fast\n",
    "import numpy as np\n",
    "\n",
    "# This library is used to plot data and graphs such as in MATLAB\n",
    "import matplotlib.pyplot as plt\n",
    "\n",
    "# This Library is used to give us various graphs \n",
    "# which shows relation between the datas of the dataset\n",
    "import seaborn as sns"
   ]
  },
  {
   "cell_type": "code",
   "execution_count": 36,
   "metadata": {},
   "outputs": [],
   "source": [
    "%matplotlib inline\n",
    "# This is used so that we can plot our data in the jupyter notebook"
   ]
  },
  {
   "cell_type": "code",
   "execution_count": 37,
   "metadata": {},
   "outputs": [
    {
     "data": {
      "text/html": [
       "<div>\n",
       "<style scoped>\n",
       "    .dataframe tbody tr th:only-of-type {\n",
       "        vertical-align: middle;\n",
       "    }\n",
       "\n",
       "    .dataframe tbody tr th {\n",
       "        vertical-align: top;\n",
       "    }\n",
       "\n",
       "    .dataframe thead th {\n",
       "        text-align: right;\n",
       "    }\n",
       "</style>\n",
       "<table border=\"1\" class=\"dataframe\">\n",
       "  <thead>\n",
       "    <tr style=\"text-align: right;\">\n",
       "      <th></th>\n",
       "      <th>days</th>\n",
       "      <th>discount</th>\n",
       "      <th>price</th>\n",
       "    </tr>\n",
       "  </thead>\n",
       "  <tbody>\n",
       "    <tr>\n",
       "      <th>0</th>\n",
       "      <td>1</td>\n",
       "      <td>0.000</td>\n",
       "      <td>34999</td>\n",
       "    </tr>\n",
       "    <tr>\n",
       "      <th>1</th>\n",
       "      <td>2</td>\n",
       "      <td>0.000</td>\n",
       "      <td>34999</td>\n",
       "    </tr>\n",
       "    <tr>\n",
       "      <th>2</th>\n",
       "      <td>3</td>\n",
       "      <td>0.000</td>\n",
       "      <td>34999</td>\n",
       "    </tr>\n",
       "    <tr>\n",
       "      <th>3</th>\n",
       "      <td>4</td>\n",
       "      <td>0.000</td>\n",
       "      <td>34999</td>\n",
       "    </tr>\n",
       "    <tr>\n",
       "      <th>4</th>\n",
       "      <td>5</td>\n",
       "      <td>0.000</td>\n",
       "      <td>34999</td>\n",
       "    </tr>\n",
       "    <tr>\n",
       "      <th>...</th>\n",
       "      <td>...</td>\n",
       "      <td>...</td>\n",
       "      <td>...</td>\n",
       "    </tr>\n",
       "    <tr>\n",
       "      <th>360</th>\n",
       "      <td>361</td>\n",
       "      <td>0.141</td>\n",
       "      <td>30047</td>\n",
       "    </tr>\n",
       "    <tr>\n",
       "      <th>361</th>\n",
       "      <td>362</td>\n",
       "      <td>0.141</td>\n",
       "      <td>30047</td>\n",
       "    </tr>\n",
       "    <tr>\n",
       "      <th>362</th>\n",
       "      <td>363</td>\n",
       "      <td>0.141</td>\n",
       "      <td>30047</td>\n",
       "    </tr>\n",
       "    <tr>\n",
       "      <th>363</th>\n",
       "      <td>364</td>\n",
       "      <td>0.141</td>\n",
       "      <td>30047</td>\n",
       "    </tr>\n",
       "    <tr>\n",
       "      <th>364</th>\n",
       "      <td>365</td>\n",
       "      <td>0.141</td>\n",
       "      <td>30047</td>\n",
       "    </tr>\n",
       "  </tbody>\n",
       "</table>\n",
       "<p>365 rows × 3 columns</p>\n",
       "</div>"
      ],
      "text/plain": [
       "     days  discount  price\n",
       "0       1     0.000  34999\n",
       "1       2     0.000  34999\n",
       "2       3     0.000  34999\n",
       "3       4     0.000  34999\n",
       "4       5     0.000  34999\n",
       "..    ...       ...    ...\n",
       "360   361     0.141  30047\n",
       "361   362     0.141  30047\n",
       "362   363     0.141  30047\n",
       "363   364     0.141  30047\n",
       "364   365     0.141  30047\n",
       "\n",
       "[365 rows x 3 columns]"
      ]
     },
     "execution_count": 37,
     "metadata": {},
     "output_type": "execute_result"
    }
   ],
   "source": [
    "#reading our csv file and importing our data and displaying it for reference\n",
    "df = pd.read_csv('database.csv')\n",
    "df"
   ]
  },
  {
   "cell_type": "code",
   "execution_count": 38,
   "metadata": {},
   "outputs": [
    {
     "data": {
      "text/plain": [
       "Index(['days', 'discount', 'price'], dtype='object')"
      ]
     },
     "execution_count": 38,
     "metadata": {},
     "output_type": "execute_result"
    }
   ],
   "source": [
    "#it is displaying the columns we have in our dataset\n",
    "df.columns"
   ]
  },
  {
   "cell_type": "code",
   "execution_count": 39,
   "metadata": {},
   "outputs": [],
   "source": [
    "# Assigning no. of days to X which will be the training our data\n",
    "X = df[['days']]"
   ]
  },
  {
   "cell_type": "code",
   "execution_count": 40,
   "metadata": {},
   "outputs": [],
   "source": [
    "# y1 is a list of discount rate\n",
    "# y2 is a list of prices after certain number of days\n",
    "y1 = df['discount']\n",
    "y2 = df['price']"
   ]
  },
  {
   "cell_type": "code",
   "execution_count": 41,
   "metadata": {},
   "outputs": [],
   "source": [
    "# importing sklearn.moel_selection so that we can split the\n",
    "# data into training and testing sets for our Linear Regression Model\n",
    "from sklearn.model_selection import train_test_split"
   ]
  },
  {
   "cell_type": "code",
   "execution_count": 42,
   "metadata": {},
   "outputs": [],
   "source": [
    "# Here we are splitting into training and testing sets\n",
    "# 70 % of the data is being set to the training set\n",
    "# while the remaining 30% is set for the testing our predictions\n",
    "# all variables with 1 --> sets which will predict discount\n",
    "# all variable with 2 --> sets which will predict the price of the product\n",
    "\n",
    "X_train1 , X_test1 , y_train1, y_test1 = train_test_split(X, y1, test_size= 0.3, random_state = 101)\n",
    "X_train2 , X_test2 , y_train2, y_test2 = train_test_split(X, y2, test_size= 0.3, random_state = 101)"
   ]
  },
  {
   "cell_type": "code",
   "execution_count": 43,
   "metadata": {},
   "outputs": [],
   "source": [
    "# we have used this library for our LinearRegression purpouse because \n",
    "# while training our normal data using CostFunction and GradientDescent we were \n",
    "# encounterting overflow of data\n",
    "# Hence I had to use LinearRegression method from sklearn.linear_model\n",
    "from sklearn.linear_model import LinearRegression"
   ]
  },
  {
   "cell_type": "code",
   "execution_count": 44,
   "metadata": {},
   "outputs": [],
   "source": [
    "# copying a method into a vaiable lm which we will use to\n",
    "# train our discount data\n",
    "lm = LinearRegression()"
   ]
  },
  {
   "cell_type": "code",
   "execution_count": 45,
   "metadata": {},
   "outputs": [
    {
     "data": {
      "text/plain": [
       "LinearRegression(copy_X=True, fit_intercept=True, n_jobs=None, normalize=False)"
      ]
     },
     "execution_count": 45,
     "metadata": {},
     "output_type": "execute_result"
    }
   ],
   "source": [
    "#Training our first Linear Regreession model which is going to predict the discount rate for our given product\n",
    "lm.fit(X_train1,y_train1)\n",
    "# The comment below displays us that LineaarRegression model has been succesfully applied to our model\n",
    "# for predictiong the discount rate over the given number of days"
   ]
  },
  {
   "cell_type": "code",
   "execution_count": 46,
   "metadata": {},
   "outputs": [
    {
     "data": {
      "text/plain": [
       "array([0.00041697])"
      ]
     },
     "execution_count": 46,
     "metadata": {},
     "output_type": "execute_result"
    }
   ],
   "source": [
    "# it returns the parameters of the hypothesis\n",
    "lm.coef_"
   ]
  },
  {
   "cell_type": "code",
   "execution_count": 47,
   "metadata": {},
   "outputs": [],
   "source": [
    "# it is making predictoions based upon the training data\n",
    "predictions1 = lm.predict(X_test1)"
   ]
  },
  {
   "cell_type": "code",
   "execution_count": 48,
   "metadata": {},
   "outputs": [
    {
     "data": {
      "text/plain": [
       "<matplotlib.collections.PathCollection at 0x1264a366308>"
      ]
     },
     "execution_count": 48,
     "metadata": {},
     "output_type": "execute_result"
    },
    {
     "data": {
      "image/png": "[encoded data removed]",
      "text/plain": [
       "<Figure size 432x288 with 1 Axes>"
      ]
     },
     "metadata": {
      "needs_background": "light"
     },
     "output_type": "display_data"
    }
   ],
   "source": [
    "# it is plotting the data between the target variable and \n",
    "# corresponding predictions\n",
    "plt.scatter(y_test1,predictions1)"
   ]
  },
  {
   "cell_type": "code",
   "execution_count": 49,
   "metadata": {},
   "outputs": [
    {
     "data": {
      "text/plain": [
       "<matplotlib.axes._subplots.AxesSubplot at 0x1264a3715c8>"
      ]
     },
     "execution_count": 49,
     "metadata": {},
     "output_type": "execute_result"
    },
    {
     "data": {
      "image/png": "[encoded data removed]",
      "text/plain": [
       "<Figure size 432x288 with 1 Axes>"
      ]
     },
     "metadata": {
      "needs_background": "light"
     },
     "output_type": "display_data"
    }
   ],
   "source": [
    "sns.distplot((y_test1-predictions1))"
   ]
  },
  {
   "cell_type": "markdown",
   "metadata": {},
   "source": [
    "## Now we move on to Training our data for the price of our product"
   ]
  },
  {
   "cell_type": "code",
   "execution_count": 50,
   "metadata": {},
   "outputs": [],
   "source": [
    "# here i am training my training data wrt to price\n",
    "lm2 = LinearRegression()"
   ]
  },
  {
   "cell_type": "code",
   "execution_count": 51,
   "metadata": {},
   "outputs": [
    {
     "data": {
      "text/plain": [
       "LinearRegression(copy_X=True, fit_intercept=True, n_jobs=None, normalize=False)"
      ]
     },
     "execution_count": 51,
     "metadata": {},
     "output_type": "execute_result"
    }
   ],
   "source": [
    "# finding the cost function and gradient descent\n",
    "# for the training data\n",
    "lm2.fit(X_train2,y_train2)"
   ]
  },
  {
   "cell_type": "code",
   "execution_count": 52,
   "metadata": {},
   "outputs": [],
   "source": [
    "# predicting the values of test data\n",
    "# after getting the respective value from the training set\n",
    "predictions2 = lm2.predict(X_test2)"
   ]
  },
  {
   "cell_type": "code",
   "execution_count": 53,
   "metadata": {},
   "outputs": [
    {
     "data": {
      "text/plain": [
       "<matplotlib.collections.PathCollection at 0x1264a45db48>"
      ]
     },
     "execution_count": 53,
     "metadata": {},
     "output_type": "execute_result"
    },
    {
     "data": {
      "image/png": "[encoded data removed]",
      "text/plain": [
       "<Figure size 432x288 with 1 Axes>"
      ]
     },
     "metadata": {
      "needs_background": "light"
     },
     "output_type": "display_data"
    }
   ],
   "source": [
    "# plotting the value between the predictions and my \n",
    "# target data\n",
    "plt.scatter(y_test2,predictions2)"
   ]
  },
  {
   "cell_type": "code",
   "execution_count": 54,
   "metadata": {},
   "outputs": [
    {
     "data": {
      "text/plain": [
       "<matplotlib.axes._subplots.AxesSubplot at 0x1264a494b88>"
      ]
     },
     "execution_count": 54,
     "metadata": {},
     "output_type": "execute_result"
    },
    {
     "data": {
      "image/png": "[encoded data removed]",
      "text/plain": [
       "<Figure size 432x288 with 1 Axes>"
      ]
     },
     "metadata": {
      "needs_background": "light"
     },
     "output_type": "display_data"
    }
   ],
   "source": [
    "sns.distplot((y_test2-predictions2))"
   ]
  },
  {
   "cell_type": "code",
   "execution_count": 55,
   "metadata": {},
   "outputs": [
    {
     "data": {
      "image/png": "[encoded data removed]",
      "text/plain": [
       "<Figure size 432x288 with 1 Axes>"
      ]
     },
     "metadata": {
      "needs_background": "light"
     },
     "output_type": "display_data"
    }
   ],
   "source": [
    "# here i am plotting my hypothesis line for price\n",
    "# this is wrt to my training data\n",
    "plt.scatter(X_train2, y_train2, color = 'red')\n",
    "plt.plot(X_train2, lm2.predict(X_train2), color = 'blue')\n",
    "plt.ylabel('price of the product')\n",
    "plt.xlabel('Number of days since the product launched')\n",
    "plt.title('Graph for training data')\n",
    "plt.show()"
   ]
  },
  {
   "cell_type": "code",
   "execution_count": 56,
   "metadata": {},
   "outputs": [
    {
     "data": {
      "image/png": "[encoded data removed]",
      "text/plain": [
       "<Figure size 432x288 with 1 Axes>"
      ]
     },
     "metadata": {
      "needs_background": "light"
     },
     "output_type": "display_data"
    }
   ],
   "source": [
    "# the blue line is my hypothesis wrt to the test data\n",
    "plt.scatter(X_test2, y_test2, color = 'red')\n",
    "plt.plot(X_test2, lm2.predict(X_test2), color = 'blue')\n",
    "plt.ylabel('price of the product')\n",
    "plt.xlabel('Number of days since the product launched')\n",
    "plt.title('Graph for test data')\n",
    "plt.show()"
   ]
  },
  {
   "cell_type": "code",
   "execution_count": 57,
   "metadata": {},
   "outputs": [],
   "source": [
    "# importing datime library which will help me to calculate days easily\n",
    "import datetime"
   ]
  },
  {
   "cell_type": "code",
   "execution_count": 58,
   "metadata": {},
   "outputs": [
    {
     "name": "stdout",
     "output_type": "stream",
     "text": [
      "Enter the Date(DD-MM-YYYY) : 12-12-2020\n"
     ]
    },
    {
     "data": {
      "text/plain": [
       "[12, 12, 2020]"
      ]
     },
     "execution_count": 58,
     "metadata": {},
     "output_type": "execute_result"
    }
   ],
   "source": [
    "# getting the future date from the user and then splitting it into\n",
    "# days, months and year\n",
    "s = input('Enter the Date(DD-MM-YYYY) : ')\n",
    "lst = list(map(int, s.split('-')))\n",
    "lst"
   ]
  },
  {
   "cell_type": "code",
   "execution_count": 59,
   "metadata": {},
   "outputs": [],
   "source": [
    "# here i am going to calculate the number of days passed since the launch\n",
    "# of the product so that i can use to predict it\n",
    "dte = datetime.date(lst[2], lst[1], lst[0])\n",
    "\n",
    "tday = datetime.date.today()\n",
    "\n",
    "diff_date = dte - tday\n",
    "\n",
    "diff_date = str(diff_date)\n",
    "\n",
    "s = ''\n",
    "for i in diff_date:\n",
    "    if i != ' ':\n",
    "        s = s+i\n",
    "    else:\n",
    "        break\n",
    "num = int(s)"
   ]
  },
  {
   "cell_type": "code",
   "execution_count": 60,
   "metadata": {},
   "outputs": [],
   "source": [
    "# crearting an array from the number of days \n",
    "# so that i can use it in the predict module\n",
    "a = np.array([num])\n",
    "a = a.reshape((1,1))"
   ]
  },
  {
   "cell_type": "code",
   "execution_count": 61,
   "metadata": {},
   "outputs": [
    {
     "name": "stdout",
     "output_type": "stream",
     "text": [
      "The price predicted would be : 32199.08\n"
     ]
    }
   ],
   "source": [
    "# predicting the price and giving the user output\n",
    "n1 = sum(lm2.predict(a))\n",
    "n1 = round(n1)\n",
    "\n",
    "n2 = sum(lm.predict(a))\n",
    "n2 = round(n2,2)\n",
    "\n",
    "if n2<0.02:\n",
    "    print('The price predicted would be : {}'.format(max(df['price'])))\n",
    "elif n2 > max(df['price']):\n",
    "    print('The price predicted woule be : {}'.format( max(df['price']) ))\n",
    "    \n",
    "else:\n",
    "    print('The price predicted would be : {}'.format(max(n1, 34999-(34999*n2) )))"
   ]
  },
  {
   "cell_type": "markdown",
   "metadata": {},
   "source": [
    "#### Program to check the current price of my product"
   ]
  },
  {
   "cell_type": "code",
   "execution_count": 62,
   "metadata": {},
   "outputs": [],
   "source": [
    "# importing my requestes module \n",
    "# this module will help me scrape the web\n",
    "import requests"
   ]
  },
  {
   "cell_type": "code",
   "execution_count": 63,
   "metadata": {},
   "outputs": [],
   "source": [
    "# setting the url and getting the user agent to set it for web scraping\n",
    "URL = 'https://www.amazon.in/Test-Exclusive-746/dp/B07DJHXTLJ/ref=sr_1_1?dchild=1&keywords=oneplus+7t&qid=1589475271&sr=8-1'\n",
    "\n",
    "headers = {'User-Agent' : 'Mozilla/5.0 (Windows NT 10.0; Win64; x64) AppleWebKit/537.36 (KHTML, like Gecko) Chrome/81.0.4044.138 Safari/537.36'}\n",
    "\n"
   ]
  },
  {
   "cell_type": "code",
   "execution_count": 64,
   "metadata": {},
   "outputs": [],
   "source": [
    "# this is to get different parts or texts from the webpage\n",
    "from bs4 import BeautifulSoup"
   ]
  },
  {
   "cell_type": "code",
   "execution_count": 65,
   "metadata": {},
   "outputs": [],
   "source": [
    "# here i get the price from the user and then send the email if the price has\n",
    "# gone down else we don't\n",
    "def check_price():\n",
    "    page = requests.get(URL, headers = headers)\n",
    "    soup = BeautifulSoup(page.content,'html.parser')\n",
    "\n",
    "    title = soup.find(id = 'productTitle').get_text()\n",
    "    price = soup.find(id = 'priceblock_ourprice').get_text()\n",
    "\n",
    "    converted_price = price[2:8]\n",
    "    s = ''\n",
    "    for i in converted_price:\n",
    "        if i != ',':\n",
    "            s = s+i\n",
    "    converted_price = int(s)\n",
    "\n",
    "    n = int(input(\"Enter the price: \"))\n",
    "\n",
    "    if(converted_price< n):\n",
    "        send_email()\n",
    "\n",
    "\n",
    "    print(converted_price)\n",
    "    print(title.strip())\n",
    "    \n",
    "    if(converted_price < n):\n",
    "        send_email()"
   ]
  },
  {
   "cell_type": "code",
   "execution_count": 66,
   "metadata": {},
   "outputs": [],
   "source": [
    "# importing smtplib to send mail to my user\n",
    "import smtplib"
   ]
  },
  {
   "cell_type": "code",
   "execution_count": 71,
   "metadata": {},
   "outputs": [],
   "source": [
    "# function which is sending mail to the user if certain criteria is made\n",
    "def send_email():\n",
    "    server = smtplib.SMTP('smtp.gmail.com', 587)\n",
    "    server.ehlo()\n",
    "    server.starttls()\n",
    "    server.ehlo()\n",
    "    server.login('roybrajeshoo7@gmail.com', 'nzcjdgbcelipkzxl')\n",
    "    subject = 'Price Fell Down!!!'\n",
    "    body = 'Check the amazon link  https://www.amazon.in/Test-Exclusive-746/dp/B07DJHXTLJ/ref=sr_1_1?dchild=1&keywords=oneplus+7t&qid=1589475271&sr=8-1'\n",
    "    \n",
    "    msg = f'Subject : {subject}\\n\\n{body}'\n",
    "    \n",
    "    server.sendmail(\n",
    "        'roybrajeshoo7@gmail.com',\n",
    "        'ceoreinds001@gmail.com',\n",
    "        msg\n",
    "    )\n",
    "    \n",
    "    print('HEY EMAIL HAS BEEN SENT')\n",
    "    server.quit()"
   ]
  },
  {
   "cell_type": "code",
   "execution_count": 72,
   "metadata": {},
   "outputs": [
    {
     "name": "stdout",
     "output_type": "stream",
     "text": [
      "Enter the price: 35000\n",
      "HEY EMAIL HAS BEEN SENT\n",
      "34999\n",
      "OnePlus 7T (Glacier Blue, 8GB RAM, Fluid AMOLED Display, 128GB Storage, 3800mAH Battery)\n",
      "HEY EMAIL HAS BEEN SENT\n"
     ]
    }
   ],
   "source": [
    "check_price()"
   ]
  },
  {
   "cell_type": "code",
   "execution_count": null,
   "metadata": {},
   "outputs": [],
   "source": []
  }
 ],
 "metadata": {
  "kernelspec": {
   "display_name": "Python 3",
   "language": "python",
   "name": "python3"
  },
  "language_info": {
   "codemirror_mode": {
    "name": "ipython",
    "version": 3
   },
   "file_extension": ".py",
   "mimetype": "text/x-python",
   "name": "python",
   "nbconvert_exporter": "python",
   "pygments_lexer": "ipython3",
   "version": "3.7.6"
  }
 },
 "nbformat": 4,
 "nbformat_minor": 4
}
